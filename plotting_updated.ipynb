{
 "cells": [
  {
   "cell_type": "code",
   "execution_count": null,
   "metadata": {},
   "outputs": [],
   "source": [
    "# Updated plotting notebook\n",
    "# Local imports\n",
    "import argparse\n",
    "import os\n",
    "import sys\n",
    "import time\n",
    "import glob\n",
    "import re\n",
    "\n",
    "# Third party imports\n",
    "import numpy as np\n",
    "import pandas as pd\n",
    "import matplotlib.pyplot as plt\n",
    "import xarray as xr\n",
    "import cartopy.crs as ccrs\n",
    "from datetime import datetime\n",
    "import scipy.stats as stats\n",
    "\n",
    "# Import cdo\n",
    "from cdo import *\n",
    "cdo = Cdo()\n",
    "\n",
    "# Local imports\n",
    "sys.path.append('/home/users/benhutch/skill-maps-historical')\n",
    "import dictionaries as dic\n",
    "import functions as fnc"
   ]
  },
  {
   "cell_type": "code",
   "execution_count": null,
   "metadata": {},
   "outputs": [],
   "source": [
    "# Set up the parameters for the first historical run\n",
    "# psl year 2-9 DJFM global\n",
    "variable = 'psl'\n",
    "region = 'global'\n",
    "region_grid = dic.gridspec_global\n",
    "season = 'DJFM'\n",
    "forecast_range = '2-9'\n",
    "observations_path = dic.obs\n",
    "obs_var_name = 'psl'\n",
    "start_year = 1960\n",
    "end_year = 2014\n",
    "models = dic.psl_models\n"
   ]
  },
  {
   "cell_type": "code",
   "execution_count": null,
   "metadata": {},
   "outputs": [],
   "source": [
    "# Process the observations\n",
    "# for year 2-9 DJFM global psl\n",
    "obs = fnc.process_observations(variable, region, region_grid,\n",
    "                                forecast_range, season, observations_path,\n",
    "                                    obs_var_name)"
   ]
  },
  {
   "cell_type": "code",
   "execution_count": null,
   "metadata": {},
   "outputs": [],
   "source": [
    "# TODO: test the processing function here\n",
    "# Load the processed historical data\n",
    "historical_data = fnc.load_processed_historical_data(dic.base_dir_historical,\n",
    "                                                        models, variable,\n",
    "                                                            region, forecast_range,\n",
    "                                                                season)"
   ]
  }
 ],
 "metadata": {
  "kernelspec": {
   "display_name": "Python 3",
   "language": "python",
   "name": "python3"
  },
  "language_info": {
   "name": "python",
   "version": "3.10.5"
  },
  "orig_nbformat": 4
 },
 "nbformat": 4,
 "nbformat_minor": 2
}

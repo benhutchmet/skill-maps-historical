{
 "cells": [
  {
   "cell_type": "code",
   "execution_count": null,
   "metadata": {},
   "outputs": [],
   "source": [
    "# Updated plotting notebook\n",
    "# Local imports\n",
    "import argparse\n",
    "import os\n",
    "import sys\n",
    "import time\n",
    "import glob\n",
    "import re\n",
    "\n",
    "# Third party imports\n",
    "import numpy as np\n",
    "import pandas as pd\n",
    "import matplotlib.pyplot as plt\n",
    "import xarray as xr\n",
    "import cartopy.crs as ccrs\n",
    "from datetime import datetime\n",
    "import scipy.stats as stats\n",
    "\n",
    "# Import cdo\n",
    "from cdo import *\n",
    "cdo = Cdo()\n",
    "\n",
    "# Local imports\n",
    "sys.path.append('/home/users/benhutch/skill-maps-historical')\n",
    "import dictionaries as dic\n",
    "import functions as fnc"
   ]
  },
  {
   "cell_type": "code",
   "execution_count": null,
   "metadata": {},
   "outputs": [],
   "source": [
    "# Set up the parameters for the first historical run\n",
    "# psl year 2-9 DJFM global\n",
    "variable = 'psl'\n",
    "region = 'global'\n",
    "region_grid = dic.gridspec_global\n",
    "season = 'DJFM'\n",
    "forecast_range = '2-9'\n",
    "observations_path = dic.obs\n",
    "obs_var_name = 'psl'\n",
    "start_year = 1960\n",
    "end_year = 2014\n"
   ]
  },
  {
   "cell_type": "code",
   "execution_count": null,
   "metadata": {},
   "outputs": [],
   "source": [
    "# Process the observations\n",
    "# for year 2-9 DJFM global psl\n",
    "obs = fnc.process_observations(variable, region, region_grid,\n",
    "                                forecast_range, season, observations_path,\n",
    "                                    obs_var_name)"
   ]
  }
 ],
 "metadata": {
  "language_info": {
   "name": "python"
  },
  "orig_nbformat": 4
 },
 "nbformat": 4,
 "nbformat_minor": 2
}

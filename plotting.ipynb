{
 "cells": [
  {
   "cell_type": "code",
   "execution_count": 1,
   "metadata": {},
   "outputs": [],
   "source": [
    "# Plotting notebook for the project\n",
    "# Imports\n",
    "import argparse\n",
    "import os\n",
    "import sys\n",
    "import glob\n",
    "import re\n",
    "\n",
    "# Third-party imports\n",
    "import numpy as np\n",
    "import pandas as pd\n",
    "import matplotlib.pyplot as plt\n",
    "import xarray as xr\n",
    "import cartopy.crs as ccrs\n",
    "from datetime import datetime\n",
    "import scipy.stats as stats\n",
    "\n",
    "# import cdo\n",
    "from cdo import *\n",
    "cdo = Cdo()\n",
    "\n",
    "# Local imports\n",
    "sys.path.append('/home/users/benhutch/skill-maps-historical')\n",
    "import dictionaries as dic\n",
    "import functions as fnc"
   ]
  },
  {
   "cell_type": "code",
   "execution_count": 2,
   "metadata": {},
   "outputs": [],
   "source": [
    "# Set up the parameters again\n",
    "# for the years 2-9 psl ULG (JJA)\n",
    "var = \"psl\"\n",
    "region = \"global\"\n",
    "region_grid = dic.gridspec_global\n",
    "forecast_range = \"2-9\"\n",
    "season = \"DJFM\" # weird season name for model\n",
    "observations_path = dic.obs\n",
    "obs_var_name = \"psl\"\n",
    "model_dict = dic.model_dictionary_psl_historical_badc\n",
    "start_year = 1960\n",
    "end_year = 2014"
   ]
  },
  {
   "cell_type": "code",
   "execution_count": 3,
   "metadata": {},
   "outputs": [],
   "source": [
    "# # Process the observations first of all\n",
    "# obs = fnc.process_observations(var, region, region_grid,\n",
    "#                                forecast_range, season, observations_path,\n",
    "#                                obs_var_name)"
   ]
  },
  {
   "cell_type": "code",
   "execution_count": 4,
   "metadata": {},
   "outputs": [],
   "source": [
    "# # First we want to merge the time axis and regrid the model (historical) data\n",
    "# # using the function call_mergetime_regrid\n",
    "# # this does not return anything, but saves the regridded data to a netcdf file\n",
    "# fnc.call_mergetime_regrid(model_dict, var, region)"
   ]
  },
  {
   "cell_type": "code",
   "execution_count": 5,
   "metadata": {},
   "outputs": [
    {
     "name": "stdout",
     "output_type": "stream",
     "text": [
      "processing model:  BCC-CSM2-MR\n",
      "type of var <class 'str'>\n",
      "type of model <class 'str'>\n",
      "type of region <class 'str'>\n",
      "regrid_files: /gws/nopw/j04/canari/users/benhutch/historical/psl/BCC-CSM2-MR/regrid/psl_Amon_BCC-CSM2-MR_historical_r*i?p?f?_*global_regrid.nc\n",
      "number of files for model  BCC-CSM2-MR :  3\n",
      "type of member_dict <class 'dict'>\n",
      "len of member_dict 3\n",
      "model: BCC-CSM2-MR\n",
      "type of model <class 'str'>\n",
      "len of model 11\n",
      "processing model:  MPI-ESM1-2-HR\n",
      "type of var <class 'str'>\n",
      "type of model <class 'str'>\n",
      "type of region <class 'str'>\n",
      "regrid_files: /gws/nopw/j04/canari/users/benhutch/historical/psl/MPI-ESM1-2-HR/regrid/psl_Amon_MPI-ESM1-2-HR_historical_r*i?p?f?_*global_regrid.nc\n",
      "number of files for model  MPI-ESM1-2-HR :  1\n",
      "type of member_dict <class 'dict'>\n",
      "len of member_dict 1\n",
      "model: MPI-ESM1-2-HR\n",
      "type of model <class 'str'>\n",
      "len of model 13\n",
      "processing model:  CanESM5\n",
      "type of var <class 'str'>\n",
      "type of model <class 'str'>\n",
      "type of region <class 'str'>\n",
      "regrid_files: /gws/nopw/j04/canari/users/benhutch/historical/psl/CanESM5/regrid/psl_Amon_CanESM5_historical_r*i?p?f?_*global_regrid.nc\n",
      "number of files for model  CanESM5 :  35\n",
      "type of member_dict <class 'dict'>\n",
      "len of member_dict 35\n",
      "model: CanESM5\n",
      "type of model <class 'str'>\n",
      "len of model 7\n",
      "processing model:  CMCC-CM2-SR5\n",
      "type of var <class 'str'>\n",
      "type of model <class 'str'>\n",
      "type of region <class 'str'>\n",
      "regrid_files: /gws/nopw/j04/canari/users/benhutch/historical/psl/CMCC-CM2-SR5/regrid/psl_Amon_CMCC-CM2-SR5_historical_r*i?p?f?_*global_regrid.nc\n",
      "number of files for model  CMCC-CM2-SR5 :  1\n",
      "type of member_dict <class 'dict'>\n",
      "len of member_dict 1\n",
      "model: CMCC-CM2-SR5\n",
      "type of model <class 'str'>\n",
      "len of model 12\n",
      "processing model:  HadGEM3-GC31-MM\n",
      "type of var <class 'str'>\n",
      "type of model <class 'str'>\n",
      "type of region <class 'str'>\n",
      "regrid_files: /gws/nopw/j04/canari/users/benhutch/historical/psl/HadGEM3-GC31-MM/regrid/psl_Amon_HadGEM3-GC31-MM_historical_r*i?p?f?_*global_regrid.nc\n",
      "number of files for model  HadGEM3-GC31-MM :  4\n",
      "type of member_dict <class 'dict'>\n",
      "len of member_dict 4\n",
      "model: HadGEM3-GC31-MM\n",
      "type of model <class 'str'>\n",
      "len of model 15\n",
      "processing model:  EC-Earth3\n",
      "type of var <class 'str'>\n",
      "type of model <class 'str'>\n",
      "type of region <class 'str'>\n",
      "regrid_files: /gws/nopw/j04/canari/users/benhutch/historical/psl/EC-Earth3/regrid/psl_Amon_EC-Earth3_historical_r*i?p?f?_*global_regrid.nc\n",
      "number of files for model  EC-Earth3 :  50\n",
      "type of member_dict <class 'dict'>\n",
      "len of member_dict 50\n",
      "model: EC-Earth3\n",
      "type of model <class 'str'>\n",
      "len of model 9\n",
      "processing model:  MPI-ESM1-2-LR\n",
      "type of var <class 'str'>\n",
      "type of model <class 'str'>\n",
      "type of region <class 'str'>\n",
      "regrid_files: /gws/nopw/j04/canari/users/benhutch/historical/psl/MPI-ESM1-2-LR/regrid/psl_Amon_MPI-ESM1-2-LR_historical_r*i?p?f?_*global_regrid.nc\n",
      "number of files for model  MPI-ESM1-2-LR :  1\n",
      "type of member_dict <class 'dict'>\n",
      "len of member_dict 1\n",
      "model: MPI-ESM1-2-LR\n",
      "type of model <class 'str'>\n",
      "len of model 13\n",
      "processing model:  FGOALS-f3-L\n",
      "type of var <class 'str'>\n",
      "type of model <class 'str'>\n",
      "type of region <class 'str'>\n",
      "regrid_files: /gws/nopw/j04/canari/users/benhutch/historical/psl/FGOALS-f3-L/regrid/psl_Amon_FGOALS-f3-L_historical_r*i?p?f?_*global_regrid.nc\n",
      "number of files for model  FGOALS-f3-L :  1\n",
      "type of member_dict <class 'dict'>\n",
      "len of member_dict 1\n",
      "model: FGOALS-f3-L\n",
      "type of model <class 'str'>\n",
      "len of model 11\n",
      "processing model:  MIROC6\n",
      "type of var <class 'str'>\n",
      "type of model <class 'str'>\n",
      "type of region <class 'str'>\n",
      "regrid_files: /gws/nopw/j04/canari/users/benhutch/historical/psl/MIROC6/regrid/psl_Amon_MIROC6_historical_r*i?p?f?_*global_regrid.nc\n",
      "number of files for model  MIROC6 :  50\n",
      "type of member_dict <class 'dict'>\n",
      "len of member_dict 50\n",
      "model: MIROC6\n",
      "type of model <class 'str'>\n",
      "len of model 6\n",
      "processing model:  IPSL-CM6A-LR\n",
      "type of var <class 'str'>\n",
      "type of model <class 'str'>\n",
      "type of region <class 'str'>\n",
      "regrid_files: /gws/nopw/j04/canari/users/benhutch/historical/psl/IPSL-CM6A-LR/regrid/psl_Amon_IPSL-CM6A-LR_historical_r*i?p?f?_*global_regrid.nc\n",
      "number of files for model  IPSL-CM6A-LR :  9\n",
      "type of member_dict <class 'dict'>\n",
      "len of member_dict 9\n",
      "model: IPSL-CM6A-LR\n",
      "type of model <class 'str'>\n",
      "len of model 12\n",
      "processing model:  NorCPM1\n",
      "type of var <class 'str'>\n",
      "type of model <class 'str'>\n",
      "type of region <class 'str'>\n",
      "regrid_files: /gws/nopw/j04/canari/users/benhutch/historical/psl/NorCPM1/regrid/psl_Amon_NorCPM1_historical_r*i?p?f?_*global_regrid.nc\n",
      "number of files for model  NorCPM1 :  1\n",
      "type of member_dict <class 'dict'>\n",
      "len of member_dict 1\n",
      "model: NorCPM1\n",
      "type of model <class 'str'>\n",
      "len of model 7\n",
      "type of historical_data <class 'dict'>\n",
      "shape of historical_data ()\n"
     ]
    }
   ],
   "source": [
    "# Now we want to load the historical data\n",
    "# as a dictionary of xarray datasets for each model\n",
    "# using the load_historical_data function\n",
    "historical_data = fnc.load_historical_data(model_dict, var, region)\n",
    "\n",
    "# historical_data"
   ]
  },
  {
   "cell_type": "code",
   "execution_count": 6,
   "metadata": {},
   "outputs": [
    {
     "name": "stdout",
     "output_type": "stream",
     "text": [
      "<xarray.Dataset>\n",
      "Dimensions:    (time: 1980, bnds: 2, lon: 144, lat: 72)\n",
      "Coordinates:\n",
      "  * time       (time) object 1850-01-16 12:00:00 ... 2014-12-16 12:00:00\n",
      "  * lon        (lon) float64 -180.0 -177.5 -175.0 -172.5 ... 172.5 175.0 177.5\n",
      "  * lat        (lat) float64 -90.0 -87.5 -85.0 -82.5 ... 80.0 82.5 85.0 87.5\n",
      "Dimensions without coordinates: bnds\n",
      "Data variables:\n",
      "    time_bnds  (time, bnds) object dask.array<chunksize=(50, 2), meta=np.ndarray>\n",
      "    psl        (time, lat, lon) float32 dask.array<chunksize=(50, 72, 144), meta=np.ndarray>\n",
      "Attributes: (12/51)\n",
      "    CDI:                    Climate Data Interface version 2.0.4 (https://mpi...\n",
      "    Conventions:            CF-1.7 CMIP-6.2\n",
      "    source:                 BCC-CSM 2 MR (2017):   aerosol: none  atmos: BCC_...\n",
      "    institution:            Beijing Climate Center, Beijing 100081, China\n",
      "    activity_id:            CMIP\n",
      "    branch_method:          Standard\n",
      "    ...                     ...\n",
      "    tracking_id:            hdl:21.14100/50edc5e7-26be-42cd-9794-bc0a36dec851\n",
      "    variable_id:            psl\n",
      "    variant_label:          r1i1p1f1\n",
      "    license:                CMIP6 model data produced by BCC is licensed unde...\n",
      "    cmor_version:           3.3.2\n",
      "    CDO:                    Climate Data Operators version 2.0.4 (https://mpi...\n"
     ]
    }
   ],
   "source": [
    "print(historical_data['BCC-CSM2-MR'][0])"
   ]
  },
  {
   "cell_type": "code",
   "execution_count": 7,
   "metadata": {},
   "outputs": [
    {
     "name": "stdout",
     "output_type": "stream",
     "text": [
      "processing model:  BCC-CSM2-MR\n",
      "processing member:  0\n",
      "Error, data contains only NaN values\n",
      "Error, data is empty\n"
     ]
    }
   ],
   "source": [
    "# now we want to call the function to process the historical data\n",
    "# this will:\n",
    "# 1. constrain the data to the provided year range and season\n",
    "# 2. calculate the climatology and remove this to create anomalies\n",
    "# 3. calculate the annual mean anomalies from the monthly mean anomalies\n",
    "# 4. calculate the running mean of these annual mean anomalies\n",
    "# then add the processed data back into the dictionary\n",
    "processed_historical_data = fnc.process_historical_data(historical_data, season, forecast_range, start_year, end_year)"
   ]
  },
  {
   "cell_type": "code",
   "execution_count": 8,
   "metadata": {},
   "outputs": [
    {
     "ename": "TypeError",
     "evalue": "'NoneType' object is not iterable",
     "output_type": "error",
     "traceback": [
      "\u001b[0;31m---------------------------------------------------------------------------\u001b[0m",
      "\u001b[0;31mTypeError\u001b[0m                                 Traceback (most recent call last)",
      "Input \u001b[0;32mIn [8]\u001b[0m, in \u001b[0;36m<cell line: 6>\u001b[0;34m()\u001b[0m\n\u001b[1;32m      1\u001b[0m \u001b[38;5;66;03m# Now we want to process the historical data\u001b[39;00m\n\u001b[1;32m      2\u001b[0m \u001b[38;5;66;03m# in preperation for calculating the spatial correlations\u001b[39;00m\n\u001b[1;32m      3\u001b[0m \u001b[38;5;66;03m# this function constrains the years to only those available in all members\u001b[39;00m\n\u001b[1;32m      4\u001b[0m \u001b[38;5;66;03m# and then calculates the equally weighted ensemble mean of all members\u001b[39;00m\n\u001b[1;32m      5\u001b[0m \u001b[38;5;66;03m# using the function process_historical_data_spacial_correlations\u001b[39;00m\n\u001b[0;32m----> 6\u001b[0m ensemble_mean \u001b[38;5;241m=\u001b[39m \u001b[43mfnc\u001b[49m\u001b[38;5;241;43m.\u001b[39;49m\u001b[43mprocess_historical_data_spatial_correlations\u001b[49m\u001b[43m(\u001b[49m\u001b[43mprocessed_historical_data\u001b[49m\u001b[43m)\u001b[49m\n",
      "File \u001b[0;32m~/skill-maps-historical/functions.py:849\u001b[0m, in \u001b[0;36mprocess_historical_data_spatial_correlations\u001b[0;34m(historical_data)\u001b[0m\n\u001b[1;32m    846\u001b[0m ensemble_members_count \u001b[38;5;241m=\u001b[39m {}\n\u001b[1;32m    848\u001b[0m \u001b[38;5;66;03m# Constrain the years for each model\u001b[39;00m\n\u001b[0;32m--> 849\u001b[0m historical_data \u001b[38;5;241m=\u001b[39m \u001b[43mconstrain_years\u001b[49m\u001b[43m(\u001b[49m\u001b[43mhistorical_data\u001b[49m\u001b[43m)\u001b[49m\n\u001b[1;32m    851\u001b[0m \u001b[38;5;66;03m# Loop over the models\u001b[39;00m\n\u001b[1;32m    852\u001b[0m \u001b[38;5;28;01mfor\u001b[39;00m model \u001b[38;5;129;01min\u001b[39;00m historical_data:\n\u001b[1;32m    853\u001b[0m     \u001b[38;5;66;03m# Extract the model data\u001b[39;00m\n",
      "File \u001b[0;32m~/skill-maps-historical/functions.py:778\u001b[0m, in \u001b[0;36mconstrain_years\u001b[0;34m(historical_data)\u001b[0m\n\u001b[1;32m    774\u001b[0m years_list \u001b[38;5;241m=\u001b[39m []\n\u001b[1;32m    776\u001b[0m \u001b[38;5;66;03m# Loop over the models\u001b[39;00m\n\u001b[1;32m    777\u001b[0m \u001b[38;5;66;03m# these are define by the model_name key in the dictionary\u001b[39;00m\n\u001b[0;32m--> 778\u001b[0m \u001b[38;5;28;01mfor\u001b[39;00m model \u001b[38;5;129;01min\u001b[39;00m historical_data:\n\u001b[1;32m    779\u001b[0m     \u001b[38;5;66;03m# extract the model data\u001b[39;00m\n\u001b[1;32m    780\u001b[0m     model_data \u001b[38;5;241m=\u001b[39m historical_data[model]\n\u001b[1;32m    782\u001b[0m     \u001b[38;5;66;03m# Loop over the members in the model data\u001b[39;00m\n",
      "\u001b[0;31mTypeError\u001b[0m: 'NoneType' object is not iterable"
     ]
    }
   ],
   "source": [
    "# Now we want to process the historical data\n",
    "# in preperation for calculating the spatial correlations\n",
    "# this function constrains the years to only those available in all members\n",
    "# and then calculates the equally weighted ensemble mean of all members\n",
    "# using the function process_historical_data_spacial_correlations\n",
    "ensemble_mean = fnc.process_historical_data_spatial_correlations(processed_historical_data)"
   ]
  }
 ],
 "metadata": {
  "kernelspec": {
   "display_name": "bens-python-environment",
   "language": "python",
   "name": "bens-python-environment"
  },
  "language_info": {
   "codemirror_mode": {
    "name": "ipython",
    "version": 3
   },
   "file_extension": ".py",
   "mimetype": "text/x-python",
   "name": "python",
   "nbconvert_exporter": "python",
   "pygments_lexer": "ipython3",
   "version": "3.10.5"
  }
 },
 "nbformat": 4,
 "nbformat_minor": 4
}

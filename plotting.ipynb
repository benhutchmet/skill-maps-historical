{
 "cells": [
  {
   "cell_type": "code",
   "execution_count": 1,
   "metadata": {},
   "outputs": [
    {
     "ename": "SyntaxError",
     "evalue": "'(' was never closed (functions.py, line 467)",
     "output_type": "error",
     "traceback": [
      "Traceback \u001b[0;36m(most recent call last)\u001b[0m:\n",
      "  File \u001b[1;32m/opt/jaspy/lib/python3.10/site-packages/IPython/core/interactiveshell.py:3398\u001b[0m in \u001b[1;35mrun_code\u001b[0m\n    exec(code_obj, self.user_global_ns, self.user_ns)\n",
      "\u001b[0;36m  Input \u001b[0;32mIn [1]\u001b[0;36m in \u001b[0;35m<cell line: 25>\u001b[0;36m\u001b[0m\n\u001b[0;31m    import functions as fnc\u001b[0m\n",
      "\u001b[0;36m  File \u001b[0;32m~/skill-maps-historical/functions.py:467\u001b[0;36m\u001b[0m\n\u001b[0;31m    print(\"type of member_dict\", type(member_dict)\u001b[0m\n\u001b[0m         ^\u001b[0m\n\u001b[0;31mSyntaxError\u001b[0m\u001b[0;31m:\u001b[0m '(' was never closed\n"
     ]
    }
   ],
   "source": [
    "# Plotting notebook for the project\n",
    "# Imports\n",
    "import argparse\n",
    "import os\n",
    "import sys\n",
    "import glob\n",
    "import re\n",
    "\n",
    "# Third-party imports\n",
    "import numpy as np\n",
    "import pandas as pd\n",
    "import matplotlib.pyplot as plt\n",
    "import xarray as xr\n",
    "import cartopy.crs as ccrs\n",
    "from datetime import datetime\n",
    "import scipy.stats as stats\n",
    "\n",
    "# import cdo\n",
    "from cdo import *\n",
    "cdo = Cdo()\n",
    "\n",
    "# Local imports\n",
    "sys.path.append('/home/users/benhutch/skill-maps-historical')\n",
    "import dictionaries as dic\n",
    "import functions as fnc"
   ]
  },
  {
   "cell_type": "code",
   "execution_count": null,
   "metadata": {},
   "outputs": [],
   "source": [
    "# Set up the parameters again\n",
    "# for the years 2-9 psl ULG (JJA)\n",
    "var = \"psl\"\n",
    "region = \"global\"\n",
    "region_grid = dic.gridspec_global\n",
    "forecast_range = \"2-9\"\n",
    "season = \"DJFM\" # weird season name for model\n",
    "observations_path = dic.obs\n",
    "obs_var_name = \"psl\"\n",
    "model_dict = dic.model_dictionary_psl_historical_badc\n",
    "start_year = 1960\n",
    "end_year = 2014"
   ]
  },
  {
   "cell_type": "code",
   "execution_count": null,
   "metadata": {},
   "outputs": [],
   "source": [
    "# # Process the observations first of all\n",
    "# obs = fnc.process_observations(var, region, region_grid,\n",
    "#                                forecast_range, season, observations_path,\n",
    "#                                obs_var_name)"
   ]
  },
  {
   "cell_type": "code",
   "execution_count": null,
   "metadata": {},
   "outputs": [],
   "source": [
    "# # First we want to merge the time axis and regrid the model (historical) data\n",
    "# # using the function call_mergetime_regrid\n",
    "# # this does not return anything, but saves the regridded data to a netcdf file\n",
    "# fnc.call_mergetime_regrid(model_dict, var, region)"
   ]
  },
  {
   "cell_type": "code",
   "execution_count": null,
   "metadata": {},
   "outputs": [],
   "source": [
    "# Now we want to load the historical data\n",
    "# as a dictionary of xarray datasets for each model\n",
    "# using the load_historical_data function\n",
    "historical_data = fnc.load_historical_data(model_dict, var, region)"
   ]
  },
  {
   "cell_type": "code",
   "execution_count": null,
   "metadata": {},
   "outputs": [],
   "source": [
    "type(historical_data['BCC-CSM2-MR'])"
   ]
  },
  {
   "cell_type": "code",
   "execution_count": null,
   "metadata": {},
   "outputs": [],
   "source": [
    "# now we want to call the function to process the historical data\n",
    "# this will:\n",
    "# 1. constrain the data to the provided year range and season\n",
    "# 2. calculate the climatology and remove this to create anomalies\n",
    "# 3. calculate the annual mean anomalies from the monthly mean anomalies\n",
    "# 4. calculate the running mean of these annual mean anomalies\n",
    "# then add the processed data back into the dictionary\n",
    "historical_data = fnc.process_historical_data(historical_data, season, forecast_range, start_year, end_year)"
   ]
  },
  {
   "cell_type": "code",
   "execution_count": null,
   "metadata": {},
   "outputs": [],
   "source": [
    "# Now we want to process the historical data\n",
    "# in preperation for calculating the spatial correlations\n",
    "# this function constrains the years to only those available in all members\n",
    "# and then calculates the equally weighted ensemble mean of all members\n",
    "# using the function process_historical_data_spacial_correlations\n",
    "ensemble_mean = fnc.process_historical_data_spatial_correlations(historical_data)"
   ]
  }
 ],
 "metadata": {
  "kernelspec": {
   "display_name": "bens-python-environment",
   "language": "python",
   "name": "bens-python-environment"
  },
  "language_info": {
   "codemirror_mode": {
    "name": "ipython",
    "version": 3
   },
   "file_extension": ".py",
   "mimetype": "text/x-python",
   "name": "python",
   "nbconvert_exporter": "python",
   "pygments_lexer": "ipython3",
   "version": "3.10.5"
  }
 },
 "nbformat": 4,
 "nbformat_minor": 4
}
